{
  "nbformat": 4,
  "nbformat_minor": 0,
  "metadata": {
    "colab": {
      "provenance": []
    },
    "kernelspec": {
      "name": "python3",
      "display_name": "Python 3"
    },
    "language_info": {
      "name": "python"
    }
  },
  "cells": [
    {
      "cell_type": "markdown",
      "source": [
        "Se realizan las importaciones necesarias de las librerias"
      ],
      "metadata": {
        "id": "h-do4MCsVURh"
      }
    },
    {
      "cell_type": "code",
      "execution_count": null,
      "metadata": {
        "id": "K68vF2KQMMps"
      },
      "outputs": [],
      "source": [
        "import numpy as np\n",
        "import pandas as pd\n",
        "from sklearn.model_selection import train_test_split\n",
        "from sklearn.metrics import roc_auc_score, accuracy_score, precision_score, recall_score, f1_score, confusion_matrix, roc_curve, auc\n",
        "from sklearn.metrics import classification_report\n",
        "from sklearn import svm\n",
        "from sklearn import metrics"
      ]
    },
    {
      "cell_type": "markdown",
      "source": [
        "Se lee el dataset"
      ],
      "metadata": {
        "id": "8E3YexSgVdFa"
      }
    },
    {
      "cell_type": "code",
      "source": [
        "data = pd.read_csv('/content/dataset_Caso_1.csv', encoding='ISO-8859-1')"
      ],
      "metadata": {
        "id": "VyfjwGsZQdPP"
      },
      "execution_count": null,
      "outputs": []
    },
    {
      "cell_type": "markdown",
      "source": [
        "Se separa la variable objetivo del dataframe"
      ],
      "metadata": {
        "id": "1MALuD39VhJG"
      }
    },
    {
      "cell_type": "code",
      "source": [
        "y = data['target']"
      ],
      "metadata": {
        "id": "tMVC_WHgRkWv"
      },
      "execution_count": null,
      "outputs": []
    },
    {
      "cell_type": "markdown",
      "source": [
        "Al existir variables categoricas, se usa la función dummy para codificarla en valores binarios"
      ],
      "metadata": {
        "id": "9lPASAm9Vm9P"
      }
    },
    {
      "cell_type": "code",
      "source": [
        "dummy1 = pd.get_dummies(data['x3'], dtype='int')\n",
        "dummy2 = pd.get_dummies(data['x4'], dtype='int')"
      ],
      "metadata": {
        "id": "0EWeaHLjVRD4"
      },
      "execution_count": null,
      "outputs": []
    },
    {
      "cell_type": "markdown",
      "source": [
        "Se juntan las variables dummies al dataframe original"
      ],
      "metadata": {
        "id": "g67FqLRLVzfl"
      }
    },
    {
      "cell_type": "code",
      "source": [
        "x = pd.concat((data, dummy1, dummy2), axis=1)"
      ],
      "metadata": {
        "id": "yQKzH_GLeFVN"
      },
      "execution_count": null,
      "outputs": []
    },
    {
      "cell_type": "markdown",
      "source": [
        "Se desechan las variables categoricas"
      ],
      "metadata": {
        "id": "Z6RAaMeRV8MO"
      }
    },
    {
      "cell_type": "code",
      "source": [
        "x = x.drop(['x3','x4'], axis=1)"
      ],
      "metadata": {
        "id": "iesiY1D7ffy0"
      },
      "execution_count": null,
      "outputs": []
    },
    {
      "cell_type": "markdown",
      "source": [
        "Se divide el dataframe en dataframe de entrenamiento y testeo"
      ],
      "metadata": {
        "id": "-KZupnNUWBFz"
      }
    },
    {
      "cell_type": "code",
      "source": [
        "x_train, x_test, y_train, y_test = train_test_split(x, y, random_state=1)"
      ],
      "metadata": {
        "id": "_fIAJl_8XjO9"
      },
      "execution_count": null,
      "outputs": []
    },
    {
      "cell_type": "markdown",
      "source": [
        "Se elige como clasificador Support Vector Machine, se entrena el modelo y se predice sobre x_test"
      ],
      "metadata": {
        "id": "qmzbyHCcWM-C"
      }
    },
    {
      "cell_type": "code",
      "source": [
        "clf = svm.SVC(kernel='linear')\n",
        "\n",
        "clf.fit(x_train, y_train)\n",
        "\n",
        "y_pred = clf.predict(x_test)"
      ],
      "metadata": {
        "id": "dtdZlp8zjMM-"
      },
      "execution_count": null,
      "outputs": []
    },
    {
      "cell_type": "markdown",
      "source": [
        "Se obtienen las métricas"
      ],
      "metadata": {
        "id": "T0TMVqjsWgpT"
      }
    },
    {
      "cell_type": "code",
      "source": [
        "print(classification_report(y_test,y_pred))"
      ],
      "metadata": {
        "colab": {
          "base_uri": "https://localhost:8080/"
        },
        "id": "G2iEwViBku3L",
        "outputId": "a30121b4-a676-4293-a5fb-e8ef4bcf4892"
      },
      "execution_count": null,
      "outputs": [
        {
          "output_type": "stream",
          "name": "stdout",
          "text": [
            "              precision    recall  f1-score   support\n",
            "\n",
            "           0       1.00      1.00      1.00       494\n",
            "           1       1.00      1.00      1.00         6\n",
            "\n",
            "    accuracy                           1.00       500\n",
            "   macro avg       1.00      1.00      1.00       500\n",
            "weighted avg       1.00      1.00      1.00       500\n",
            "\n"
          ]
        }
      ]
    },
    {
      "cell_type": "code",
      "source": [
        "roc_auc_score(y_test, y_pred)"
      ],
      "metadata": {
        "colab": {
          "base_uri": "https://localhost:8080/"
        },
        "id": "LmK3Fqw9j25t",
        "outputId": "06d6e071-3c42-47fd-82b5-b7dcad073dd5"
      },
      "execution_count": null,
      "outputs": [
        {
          "output_type": "execute_result",
          "data": {
            "text/plain": [
              "1.0"
            ]
          },
          "metadata": {},
          "execution_count": 60
        }
      ]
    },
    {
      "cell_type": "code",
      "source": [
        "fpr, tpr, thresholds = roc_curve(y_test, y_pred)\n",
        "auc_score = auc(fpr, tpr)\n",
        "print(\"AUC Score:\", auc_score)"
      ],
      "metadata": {
        "colab": {
          "base_uri": "https://localhost:8080/"
        },
        "id": "uV-wjydKSCEq",
        "outputId": "2c5cc682-522b-4af0-9eab-ba5e5f399afb"
      },
      "execution_count": null,
      "outputs": [
        {
          "output_type": "stream",
          "name": "stdout",
          "text": [
            "AUC Score: 1.0\n"
          ]
        }
      ]
    },
    {
      "cell_type": "code",
      "source": [
        "y_pred_train = clf.predict(x_train)"
      ],
      "metadata": {
        "id": "hqfUhjQXYY_e"
      },
      "execution_count": null,
      "outputs": []
    },
    {
      "cell_type": "code",
      "source": [
        "fpr, tpr, thresholds = roc_curve(y_train, y_pred_train)\n",
        "auc_score = auc(fpr, tpr)\n",
        "print(\"AUC Score:\", auc_score)"
      ],
      "metadata": {
        "colab": {
          "base_uri": "https://localhost:8080/"
        },
        "id": "qujK2lw0W-UW",
        "outputId": "8eb761db-69bd-46cd-c986-fafe6f9c2602"
      },
      "execution_count": null,
      "outputs": [
        {
          "output_type": "stream",
          "name": "stdout",
          "text": [
            "AUC Score: 1.0\n"
          ]
        }
      ]
    }
  ]
}